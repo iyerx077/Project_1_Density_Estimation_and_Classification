{
 "metadata": {
  "kernelspec": {
   "name": "python3",
   "display_name": "Python 3 (ipykernel)",
   "language": "python"
  }
 },
 "nbformat": 4,
 "nbformat_minor": 2,
 "cells": [
  {
   "cell_type": "code",
   "execution_count": 3,
   "metadata": {
    "ExecuteTime": {
     "end_time": "2024-02-20T04:09:12.854312Z",
     "start_time": "2024-02-20T04:08:58.376851Z"
    }
   },
   "outputs": [
    {
     "name": "stdout",
     "output_type": "stream",
     "text": [
      "['1670', 44.12395841836735, 115.65371191066967, 87.35569114128089, 101.77302543514324, 19.39842219387754, 32.31139087624774, 61.375140344235255, 84.4319240025866, 0.9173469387755102, 0.9233480176211454]\n"
     ]
    }
   ],
   "source": [
    "import numpy\n",
    "import scipy.io\n",
    "import math\n",
    "import geneNewData\n",
    "import matplotlib.pyplot\n",
    "#Numpyfile= scipy.io.loadmat(\"matlabfile.mat\")\n",
    "\n",
    "def main():\n",
    "    myID='1670' #change to last 4 digit of your studentID\n",
    "    geneNewData.geneData(myID)\n",
    "    Numpyfile0 = scipy.io.loadmat('digit0_stu_train'+myID+'.mat')\n",
    "    Numpyfile1 = scipy.io.loadmat('digit1_stu_train'+myID+'.mat')\n",
    "    Numpyfile2 = scipy.io.loadmat('digit0_testset'+'.mat')\n",
    "    Numpyfile3 = scipy.io.loadmat('digit1_testset'+'.mat')\n",
    "    train0 = Numpyfile0.get('target_img') #0 samples in training set\n",
    "    train1 = Numpyfile1.get('target_img')\n",
    "    test0 = Numpyfile2.get('target_img')\n",
    "    test1 = Numpyfile3.get('target_img')\n",
    "    \n",
    "    train0d = numpy.reshape(train0, (-1, len(train0)))\n",
    "    train1d = numpy.reshape(train1, (-1, len(train1)))\n",
    "\n",
    "    feature1train0 = numpy.mean(train0d, axis=0)\n",
    "    feature2train0 = numpy.std(train0d, axis=0)\n",
    "    feature1train1 = numpy.mean(train1d, axis=0)\n",
    "    feature2train1 = numpy.std(train1d, axis=0)\n",
    "\n",
    "    mf1train0 = sum(feature1train0)/len(feature1train0)\n",
    "    mf2train0 = sum(feature2train0)/len(feature2train0)\n",
    "    mf1train1 = sum(feature1train1)/len(feature1train1)\n",
    "    mf2train1 = sum(feature2train1)/len(feature2train1)\n",
    "    Accuracy_for_digit0testset = 0\n",
    "    Accuracy_for_digit1testset = 0\n",
    "\n",
    "#1/N*sum(average-element)**2\n",
    "    def variance(array):\n",
    "        average = sum(array)/len(array)\n",
    "        var = 0\n",
    "        for i in range(len(array)):\n",
    "            var += (average-array[i])**2\n",
    "        return var/len(array)\n",
    "        \n",
    "    vf1train0 = variance(feature1train0)\n",
    "    vf2train0 = variance(feature2train0)\n",
    "    vf1train1 = variance(feature1train1)\n",
    "    vf2train1 = variance(feature2train1)\n",
    "\n",
    "    print ([\"1227881670\", mf1train0, vf1train0, mf2train0, vf2train0, mf1train1, vf1train1, mf2train1, vf2train1, Accuracy_for_digit0testset, Accuracy_for_digit1testset])\n",
    "    \n",
    "\n",
    "    '''print (mf1train0)\n",
    "    print (vf1train0)\n",
    "    print (vf1train1)\n",
    "    print (feature1train0)\n",
    "    print (mf2train0)\n",
    "    print (mf1train1)\n",
    "    print (vf1train1)\n",
    "    print (mf2train1)\n",
    "    print (vf2train1)'''\n",
    "\n",
    "\n",
    "    '''meantrain0 = numpy.mean(train0)\n",
    "    meantrain1 = numpy.mean(train1)\n",
    "    stdtrain0 = numpy.std(train0)\n",
    "    print (meantrain0)\n",
    "    print (meantrain1)\n",
    "    print (stdtrain0)'''\n",
    "    #each of the matrices in the train0 and train1 has 28 elements\n",
    "\n",
    "\n",
    "    print([len(train0),len(train1),len(test0),len(test1)])\n",
    "    \n",
    "    print('Your trainset and testset are generated successfully!')\n",
    "    pass\n",
    "\n",
    "\n",
    "if __name__ == '__main__':\n",
    "    main()"
   ]
  },
  {
   "attachments": {},
   "cell_type": "markdown",
   "metadata": {},
   "source": [
    "# **Note:**\n",
    "\n",
    "* Your output should be a list in the following format:\n",
    "['ASUId',\n",
    "Mean_of_feature1_for_digit0, Variance_of_feature1_for_digit0,\n",
    "Mean_of_feature2_for_digit0, Variance_of_feature2_for_digit0 ,\n",
    "Mean_of_feature1_for_digit1, Variance_of_feature1_for_digit1,\n",
    "Mean_of_feature2_for_digit1, Variance_of_feature2_for_digit1,\n",
    "Accuracy_for_digit0testset, Accuracy_for_digit1testset]\n",
    "* The **order** of these 11 components are important.\n",
    "* Please print the result in the same cell that contains the comment `\"### TEST FUNCTION: test_question1\"` so that the autograder can capture your output and provide accurate feedback. Do not print anything else in the code cell below.\n",
    "* You can divide the code into different cells but the output should be printed in the cell containing the comment `\"### TEST FUNCTION: test_question1\"` \n"
   ]
  },
  {
   "cell_type": "code",
   "execution_count": 4,
   "metadata": {
    "ExecuteTime": {
     "end_time": "2024-02-20T04:09:29.344466Z",
     "start_time": "2024-02-20T04:09:12.752210Z"
    }
   },
   "outputs": [
    {
     "name": "stdout",
     "output_type": "stream",
     "text": [
      "['1670', 44.12395841836735, 115.65371191066967, 87.35569114128089, 101.77302543514324, 19.39842219387754, 32.31139087624774, 61.375140344235255, 84.4319240025866, 0.9173469387755102, 0.9233480176211454]\n"
     ]
    }
   ],
   "source": [
    "### TEST FUNCTION: test_question1\n",
    "# DO NOT REMOVE THE ABOVE LINE\n",
    "main()"
   ]
  }
 ]
}
