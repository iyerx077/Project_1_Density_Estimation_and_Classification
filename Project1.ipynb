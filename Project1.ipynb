{
 "metadata": {
  "kernelspec": {
   "name": "python3",
   "display_name": "Python 3 (ipykernel)",
   "language": "python"
  }
 },
 "nbformat": 4,
 "nbformat_minor": 2,
 "cells": [
  {
   "cell_type": "code",
   "execution_count": 1,
   "metadata": {
    "ExecuteTime": {
     "end_time": "2024-03-04T20:54:32.533911Z",
     "start_time": "2024-03-04T20:54:19.833980Z"
    }
   },
   "outputs": [
    {
     "name": "stdout",
     "output_type": "stream",
     "text": [
      "['1670', 44.12395841836735, 115.65371191066967, 87.35569114128089, 101.77302543514324, 19.39842219387754, 32.31139087624774, 61.375140344235255, 84.4319240025866, 0.9173469387755102, 0.9233480176211454]\n"
     ]
    }
   ],
   "source": [
    "import numpy\n",
    "import scipy.io\n",
    "import math\n",
    "import geneNewData\n",
    "import matplotlib.pyplot\n",
    "#Numpyfile= scipy.io.loadmat(\"matlabfile.mat\")\n",
    "\n",
    "def main():\n",
    "    myID='1670' #change to last 4 digit of your studentID\n",
    "    geneNewData.geneData(myID)\n",
    "    Numpyfile0 = scipy.io.loadmat('digit0_stu_train'+myID+'.mat')\n",
    "    Numpyfile1 = scipy.io.loadmat('digit1_stu_train'+myID+'.mat')\n",
    "    Numpyfile2 = scipy.io.loadmat('digit0_testset'+'.mat')\n",
    "    Numpyfile3 = scipy.io.loadmat('digit1_testset'+'.mat')\n",
    "    train0 = Numpyfile0.get('target_img')\n",
    "    train1 = Numpyfile1.get('target_img')\n",
    "    test0 = Numpyfile2.get('target_img')\n",
    "    test1 = Numpyfile3.get('target_img')\n",
    "    \n",
    "    #Task 1\n",
    "    train0set = []\n",
    "    train1set = []\n",
    "\n",
    "    #extracting datapoints into 2d arrays as [mean,variance]\n",
    "    for i in range(len(train0)): #for both tests since train0 and train1 have the same lenght\n",
    "        train0set.append([numpy.mean(train0[i]),numpy.std(train0[i])])\n",
    "        train1set.append([numpy.mean(train1[i]),numpy.std(train1[i])])\n",
    "\n",
    "    #Task 2\n",
    "    #using axis=0 since it will calculate the same indexed elements for all of the arrays\n",
    "    meantrain0 = numpy.mean(train0set, axis=0)\n",
    "    vartrain0 = numpy.var(train0set, axis=0)\n",
    "    meantrain1 = numpy.mean(train1set, axis=0)\n",
    "    vartrain1 = numpy.var(train1set, axis=0)\n",
    "    \n",
    "    #assigning the mean and variances of the training sets to variables\n",
    "    mf1train0 = meantrain0[0]\n",
    "    vf1train0 = vartrain0[0]\n",
    "    mf2train0 = meantrain0[1]\n",
    "    vf2train0 = vartrain0[1]\n",
    "    mf1train1 = meantrain1[0]\n",
    "    vf1train1 = vartrain1[0]\n",
    "    mf2train1 = meantrain1[1]\n",
    "    vf2train1 = vartrain1[1]\n",
    "\n",
    "\n",
    "    #Task 3\n",
    "    test0set = []\n",
    "    test1set = []\n",
    "\n",
    "    #extracting datapoints into 2d arrays as [mean,standard deviation]\n",
    "    for j in range(len(test0)): #for both tests since train0 and train1 have the same lenght\n",
    "        test0set.append([numpy.mean(test0[j]),numpy.std(test0[j])])\n",
    "    \n",
    "    for t in range(len(test1)):\n",
    "        test1set.append([numpy.mean(test1[t]),numpy.std(test1[t])])\n",
    "\n",
    "    \n",
    "    samplespredicted1 = 0\n",
    "    samplespredicted0 = 0\n",
    "\n",
    "    #compute P(X|y=0) by multiplying the PDF with the input test datapoints for std and mean and probability of each digit\n",
    "    for f in range(len(test0set)):\n",
    "        probf1train0 = NB(test0set[f][0],mf1train0,math.sqrt(vf1train0))\n",
    "        probf2train0 = NB(test0set[f][1],mf2train0,math.sqrt(vf2train0))\n",
    "        expvaluetrain0 = probf1train0*probf2train0*0.5\n",
    "\n",
    "        probf1train1 = NB(test0set[f][0],mf1train1,math.sqrt(vf1train1))\n",
    "        probf2train1 = NB(test0set[f][1],mf2train1,math.sqrt(vf2train1))\n",
    "        expvaluetrain1 = probf1train1*probf2train1*0.5\n",
    "\n",
    "        #e\n",
    "\n",
    "        if expvaluetrain0>expvaluetrain1:\n",
    "            samplespredicted0 += 1\n",
    "\n",
    "\n",
    "    #compute P(X|y=1) by multiplying the PDF with the input test datapoints for std and mean and probability of each digit\n",
    "    for k in range(len(test1set)):\n",
    "        probf1train0 = NB(test1set[k][0],mf1train0,math.sqrt(vf1train0))\n",
    "        probf2train0 = NB(test1set[k][1],mf2train0,math.sqrt(vf2train0))\n",
    "        expectedprobtrain0 = probf1train0*probf2train0*0.5\n",
    "\n",
    "        probf1train1 = NB(test1set[k][0],mf1train1,math.sqrt(vf1train1))\n",
    "        probf2train1 = NB(test1set[k][1],mf2train1,math.sqrt(vf2train1))\n",
    "        expectedprobtrain1 = probf1train1*probf2train1*0.5\n",
    "\n",
    "        if expectedprobtrain0<expectedprobtrain1:\n",
    "            samplespredicted1 += 1\n",
    "\n",
    "    #Task 4\n",
    "    #Calculating the accuracy by dividing the number of correctly predicted labels by the number of samples\n",
    "    Accuracy_for_digit0testset = samplespredicted0/len(test0set)\n",
    "    Accuracy_for_digit1testset = samplespredicted1/len(test1set)\n",
    "\n",
    "\n",
    "    #implement NB calssifiers parameters from task 2; use classifiers to predict unknown labels\n",
    "    \n",
    "    print (['1670', mf1train0, vf1train0, mf2train0, vf2train0, mf1train1, vf1train1, mf2train1, vf2train1, Accuracy_for_digit0testset, Accuracy_for_digit1testset])\n",
    "    #['ASUId', Mean_of_feature1_for_digit0, Variance_of_feature1_for_digit0, Mean_of_feature2_for_digit0, Variance_of_feature2_for_digit0 , Mean_of_feature1_for_digit1, Variance_of_feature1_for_digit1, Mean_of_feature2_for_digit1, Variance_of_feature2_for_digit1, Accuracy_for_digit0testset, Accuracy_for_digit1testset]\n",
    "\n",
    "    #each of the matrices in the train0 and train1 has 28 elements\n",
    "\n",
    "\n",
    "    #print([len(train0),len(train1),len(test0),len(test1)])\n",
    "    \n",
    "    #print('Your trainset and testset are generated successfully!')\n",
    "    pass\n",
    "\n",
    "#NB classifier formula\n",
    "def NB(test, avg, omega):\n",
    "    exponent = -0.5*(((test-avg)/omega)**2)\n",
    "    e = math.e**(exponent)\n",
    "    denominator = omega*math.sqrt(2*math.pi)\n",
    "    return e/denominator\n",
    "\n",
    "if __name__ == '__main__':\n",
    "    main()"
   ]
  },
  {
   "attachments": {},
   "cell_type": "markdown",
   "metadata": {},
   "source": [
    "# **Note:**\n",
    "\n",
    "* Your output should be a list in the following format:\n",
    "['ASUId',\n",
    "Mean_of_feature1_for_digit0, Variance_of_feature1_for_digit0,\n",
    "Mean_of_feature2_for_digit0, Variance_of_feature2_for_digit0 ,\n",
    "Mean_of_feature1_for_digit1, Variance_of_feature1_for_digit1,\n",
    "Mean_of_feature2_for_digit1, Variance_of_feature2_for_digit1,\n",
    "Accuracy_for_digit0testset, Accuracy_for_digit1testset]\n",
    "* The **order** of these 11 components are important.\n",
    "* Please print the result in the same cell that contains the comment `\"### TEST FUNCTION: test_question1\"` so that the autograder can capture your output and provide accurate feedback. Do not print anything else in the code cell below.\n",
    "* You can divide the code into different cells but the output should be printed in the cell containing the comment `\"### TEST FUNCTION: test_question1\"` \n"
   ]
  },
  {
   "cell_type": "code",
   "execution_count": 2,
   "metadata": {
    "ExecuteTime": {
     "end_time": "2024-03-04T20:54:34.015774Z",
     "start_time": "2024-03-04T20:54:32.530299Z"
    }
   },
   "outputs": [
    {
     "name": "stdout",
     "output_type": "stream",
     "text": [
      "['1670', 44.12395841836735, 115.65371191066967, 87.35569114128089, 101.77302543514324, 19.39842219387754, 32.31139087624774, 61.375140344235255, 84.4319240025866, 0.9173469387755102, 0.9233480176211454]\n"
     ]
    }
   ],
   "source": [
    "### TEST FUNCTION: test_question1\n",
    "# DO NOT REMOVE THE ABOVE LINE\n",
    "main()"
   ]
  }
 ]
}
